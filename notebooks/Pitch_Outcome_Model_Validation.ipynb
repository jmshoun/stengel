{
 "cells": [
  {
   "cell_type": "code",
   "execution_count": null,
   "metadata": {
    "collapsed": true
   },
   "outputs": [],
   "source": [
    "import pickle\n",
    "import random\n",
    "\n",
    "import numpy as np\n",
    "import sklearn.preprocessing\n",
    "import matplotlib.pyplot as plt\n",
    "\n",
    "import stengel.model.pitch_data\n",
    "import stengel.model.pitch_outcome"
   ]
  },
  {
   "cell_type": "code",
   "execution_count": null,
   "metadata": {
    "collapsed": true
   },
   "outputs": [],
   "source": [
    "with open(\"../data/python/pitch_data_2009.p\", \"rb\") as pitch_file:\n",
    "    pitch_data = stengel.model.pitch_data.PitchData.from_dict(pickle.load(pitch_file))\n",
    "with open(\"../data/python/compressed_renders.p\", \"rb\") as compressed_density_file:\n",
    "    compressed_density = pickle.load(compressed_density_file)"
   ]
  },
  {
   "cell_type": "code",
   "execution_count": null,
   "metadata": {
    "collapsed": false
   },
   "outputs": [],
   "source": [
    "# Prep the main pitch data\n",
    "pitch_data.filter_nulls(in_place=True)\n",
    "pitch_counts = pitch_data.pitches_per_pitcher()\n",
    "high_count_pitchers = [i for i, pc in enumerate(pitch_counts) if pc > 3000]\n",
    "pitch_data.filter_by_pitcher_id(high_count_pitchers, in_place=True)"
   ]
  },
  {
   "cell_type": "code",
   "execution_count": null,
   "metadata": {
    "collapsed": false
   },
   "outputs": [],
   "source": [
    "# Prep the density array\n",
    "density_compressed_array = np.array([compressed_density[name].reshape([-1])\n",
    "                                     for name in pitch_data.pitchers])\n",
    "density_compressed_array = density_compressed_array - np.mean(density_compressed_array)\n",
    "pitch_data.pitch_density = density_compressed_array"
   ]
  },
  {
   "cell_type": "code",
   "execution_count": null,
   "metadata": {
    "collapsed": false
   },
   "outputs": [],
   "source": [
    "# Get indices for train, validation, and test sets\n",
    "train_obs = int(0.6 * pitch_data.num_observations)\n",
    "valid_obs = int(0.2 * pitch_data.num_observations)\n",
    "train_indices = np.array(range(train_obs))\n",
    "valid_indices = np.array(range(train_obs, train_obs + valid_obs))\n",
    "test_indices = np.array(range(train_obs + valid_obs, pitch_data.num_observations))\n",
    "\n",
    "# Split the data into train, validation and test randomly\n",
    "pitch_data.shuffle(31415)\n",
    "train_data = pitch_data.filter_rows(train_indices, reassign_ids=False)\n",
    "valid_data = pitch_data.filter_rows(valid_indices, reassign_ids=False)\n",
    "test_data = pitch_data.filter_rows(test_indices, reassign_ids=False)\n",
    "valid_data.shuffle_each_epoch = False\n",
    "test_data.shuffle_each_epoch = False\n",
    "\n",
    "# Normalize the data according to the training data distributions\n",
    "scaler = sklearn.preprocessing.StandardScaler()\n",
    "scaler.fit(train_data.pitch_data)\n",
    "train_data.pitch_data = scaler.transform(train_data.pitch_data)\n",
    "valid_data.pitch_data = scaler.transform(valid_data.pitch_data)\n",
    "test_data.pitch_data = scaler.transform(test_data.pitch_data)\n",
    "\n",
    "num_batters = len(train_data.batters)\n",
    "num_pitchers = len(train_data.pitchers)"
   ]
  },
  {
   "cell_type": "code",
   "execution_count": null,
   "metadata": {
    "collapsed": false
   },
   "outputs": [],
   "source": [
    "# Logistic regression model\n",
    "logistic_model = stengel.model.pitch_outcome.PitchOutcomeModel(\n",
    "        batch_size=64, learning_rate=0.1, hidden_nodes=[]\n",
    ")\n",
    "logistic_model.train(train_data, valid_data, 100000, 5000)\n",
    "logistic_model.save(\"../model_fits/logistic.tf\")"
   ]
  },
  {
   "cell_type": "code",
   "execution_count": null,
   "metadata": {
    "collapsed": false
   },
   "outputs": [],
   "source": [
    "# Single hidden layer model\n",
    "single_hidden_model = stengel.model.pitch_outcome.PitchOutcomeModel(\n",
    "        batch_size=64, learning_rate=0.1, hidden_nodes=[192]\n",
    ")\n",
    "single_hidden_model.train(train_data, valid_data, 100000, 5000)\n",
    "single_hidden_model.save(\"../model_fits/single_hidden.tf\")"
   ]
  },
  {
   "cell_type": "code",
   "execution_count": null,
   "metadata": {
    "collapsed": false
   },
   "outputs": [],
   "source": [
    "# Pitcher and batter embedding model\n",
    "embedding_model = stengel.model.pitch_outcome.PitchOutcomeModel(\n",
    "        batch_size=64, learning_rate=0.1, hidden_nodes=[192],\n",
    "        num_batters=num_batters, batter_embed_size=24,\n",
    "        num_pitchers=num_pitchers, pitcher_embed_size=24\n",
    ")\n",
    "embedding_model.train(train_data, valid_data, 220000, 5000)\n",
    "embedding_model.save(\"../model_fits/embedding.tf\")"
   ]
  },
  {
   "cell_type": "code",
   "execution_count": null,
   "metadata": {
    "collapsed": false
   },
   "outputs": [],
   "source": [
    "# Pitch density model, no hidden layer\n",
    "density_direct_model = stengel.model.pitch_outcome.PitchOutcomeModel(\n",
    "        batch_size=64, learning_rate=0.1, hidden_nodes=[192],\n",
    "        num_batters=num_batters, batter_embed_size=24,\n",
    "        num_pitchers=num_pitchers, pitcher_embed_size=24,\n",
    "        density_size=[322]\n",
    ")\n",
    "density_direct_model.train(train_data, valid_data, 220000, 5000)\n",
    "density_direct_model.save(\"../model_fits/density_direct.tf\")"
   ]
  },
  {
   "cell_type": "code",
   "execution_count": null,
   "metadata": {
    "collapsed": false,
    "scrolled": false
   },
   "outputs": [],
   "source": [
    "# Pitch density model\n",
    "density_model = stengel.model.pitch_outcome.PitchOutcomeModel(\n",
    "        batch_size=64, learning_rate=0.1, hidden_nodes=[192],\n",
    "        num_batters=num_batters, batter_embed_size=24,\n",
    "        num_pitchers=num_pitchers, pitcher_embed_size=24,\n",
    "        density_size=[322], density_hidden_nodes=[64]\n",
    ")\n",
    "density_model.train(train_data, valid_data, 220000, 5000)\n",
    "density_model.save(\"../model_fits/density.tf\")"
   ]
  },
  {
   "cell_type": "code",
   "execution_count": null,
   "metadata": {
    "collapsed": false
   },
   "outputs": [],
   "source": [
    "print(\"Logistic model:        {:0.4f}\".format(logistic_model.score(test_data)))\n",
    "print(\"Single hidden model:   {:0.4f}\".format(single_hidden_model.score(test_data)))\n",
    "print(\"Embedding model:       {:0.4f}\".format(embedding_model.score(test_data)))\n",
    "print(\"Direct density model:  {:0.4f}\".format(density_direct_model.score(test_data)))\n",
    "print(\"Hidden density model:  {:0.4f}\".format(density_model.score(test_data)))"
   ]
  },
  {
   "cell_type": "code",
   "execution_count": null,
   "metadata": {
    "collapsed": false
   },
   "outputs": [],
   "source": [
    "plt.figure(figsize=(6, 4))\n",
    "plt.plot(logistic_model.fit_log[\"batch_number\"], \n",
    "         logistic_model.fit_log[\"validation_score\"], \n",
    "         label=\"Logistic\")\n",
    "plt.plot(single_hidden_model.fit_log[\"batch_number\"], \n",
    "         single_hidden_model.fit_log[\"validation_score\"],\n",
    "         label=\"Single Hidden Layer\")\n",
    "plt.plot(embedding_model.fit_log[\"batch_number\"], \n",
    "         embedding_model.fit_log[\"validation_score\"],\n",
    "         label=\"Embedding\")\n",
    "plt.plot(density_direct_model.fit_log[\"batch_number\"], \n",
    "         density_direct_model.fit_log[\"validation_score\"],\n",
    "         label=\"Density\")\n",
    "plt.plot(density_model.fit_log[\"batch_number\"], \n",
    "         density_model.fit_log[\"validation_score\"],\n",
    "         label=\"Density w/ Hidden\")\n",
    "plt.legend()\n",
    "plt.ylabel(\"Perplexity\")\n",
    "plt.xlabel(\"Training Batches\")\n",
    "plt.title(\"Validation Performance of Final Models Over Training\")\n",
    "plt.show()"
   ]
  },
  {
   "cell_type": "code",
   "execution_count": null,
   "metadata": {
    "collapsed": false
   },
   "outputs": [],
   "source": [
    "plt.figure(figsize=(6, 4))\n",
    "plt.plot(logistic_model.fit_log[\"batch_number\"], \n",
    "         logistic_model.fit_log[\"validation_score\"], \n",
    "         label=\"Logistic\")\n",
    "plt.plot(single_hidden_model.fit_log[\"batch_number\"], \n",
    "         single_hidden_model.fit_log[\"validation_score\"],\n",
    "         label=\"Single Hidden Layer\")\n",
    "plt.plot(embedding_model.fit_log[\"batch_number\"], \n",
    "         embedding_model.fit_log[\"validation_score\"],\n",
    "         label=\"Embedding\")\n",
    "plt.plot(density_direct_model.fit_log[\"batch_number\"], \n",
    "         density_direct_model.fit_log[\"validation_score\"],\n",
    "         label=\"Density\")\n",
    "plt.plot(density_model.fit_log[\"batch_number\"], \n",
    "         density_model.fit_log[\"validation_score\"],\n",
    "         label=\"Density w/ Hidden\")\n",
    "plt.legend()\n",
    "plt.ylabel(\"Perplexity\")\n",
    "plt.xlabel(\"Training Batches\")\n",
    "plt.title(\"Validation Performance of Final Models Over Training\")\n",
    "plt.ylim([2.75, 3.0])\n",
    "plt.show()"
   ]
  },
  {
   "cell_type": "code",
   "execution_count": null,
   "metadata": {
    "collapsed": true
   },
   "outputs": [],
   "source": [
    "logistic_predictions = logistic_model.predict(test_data)\n",
    "single_hidden_predictions = single_hidden_model.predict(test_data)\n",
    "embedding_predictions = embedding_model.predict(test_data)\n",
    "density_direct_predictions = density_direct_model.predict(test_data)\n",
    "density_predictions = density_model.predict(test_data)"
   ]
  },
  {
   "cell_type": "code",
   "execution_count": null,
   "metadata": {
    "collapsed": false
   },
   "outputs": [],
   "source": [
    "test_outcomes = test_data.pitch_outcomes[:32768]\n",
    "logistic_scores = [logistic_predictions[i, o] for i, o in enumerate(test_outcomes)]\n",
    "single_hidden_scores = [single_hidden_predictions[i, o] for i, o in enumerate(test_outcomes)]\n",
    "embedding_scores = [embedding_predictions[i, o] for i, o in enumerate(test_outcomes)]\n",
    "density_direct_scores = [density_direct_predictions[i, o] for i, o in enumerate(test_outcomes)]\n",
    "density_scores = [density_predictions[i, o] for i, o in enumerate(test_outcomes)]\n",
    "combined_scores = np.array([logistic_scores, single_hidden_scores, embedding_scores,\n",
    "                            density_direct_scores, density_scores]).transpose()"
   ]
  },
  {
   "cell_type": "code",
   "execution_count": null,
   "metadata": {
    "collapsed": false
   },
   "outputs": [],
   "source": [
    "# Bootstrap perplexity scores\n",
    "bootstrapped_scores = []\n",
    "for _ in range(500):\n",
    "    bootstrap_indices = np.random.choice(np.array(32768), 32768, replace=True)\n",
    "    bootstrap_scores = combined_scores[bootstrap_indices, :]\n",
    "    scores_by_model = np.exp(-np.mean(np.log(bootstrap_scores), axis=0))\n",
    "    bootstrapped_scores.append(scores_by_model)\n",
    "bootstrapped_scores = np.array(bootstrapped_scores)"
   ]
  },
  {
   "cell_type": "code",
   "execution_count": null,
   "metadata": {
    "collapsed": false
   },
   "outputs": [],
   "source": [
    "plt.boxplot(bootstrapped_scores,\n",
    "           labels=[\"Logistic\", \"Single Hidden\", \"Embedding\", \"Density\", \"Density w/ Hidden\"])\n",
    "plt.ylabel(\"Perplexity\")\n",
    "plt.xlabel(\"Model\")\n",
    "plt.title(\"Bootstrapped Testing Performance of Final Models\")\n",
    "plt.show()"
   ]
  },
  {
   "cell_type": "code",
   "execution_count": null,
   "metadata": {
    "collapsed": false
   },
   "outputs": [],
   "source": [
    "plt.boxplot(bootstrapped_scores[:, 1:],\n",
    "           labels=[\"Single Hidden\", \"Embedding\", \"Density\", \"Density w/ Hidden\"])\n",
    "plt.ylabel(\"Perplexity\")\n",
    "plt.xlabel(\"Model\")\n",
    "plt.title(\"Bootstrapped Testing Performance of Final Models\")\n",
    "plt.show()"
   ]
  },
  {
   "cell_type": "code",
   "execution_count": null,
   "metadata": {
    "collapsed": false
   },
   "outputs": [],
   "source": [
    "ball_and_strike_indices = test_outcomes <= 1\n",
    "balls_and_strikes_actual = test_outcomes[ball_and_strike_indices]\n",
    "balls_and_strikes_embedded = np.argmax(embedding_predictions[ball_and_strike_indices, :2], axis=1)\n",
    "np.mean(balls_and_strikes_embedded == balls_and_strikes_actual)"
   ]
  },
  {
   "cell_type": "code",
   "execution_count": null,
   "metadata": {
    "collapsed": false
   },
   "outputs": [],
   "source": [
    "pitch_locations = test_data.pitch_data[:32768, 31:33]\n",
    "ball_and_strike_locations = pitch_locations[ball_and_strike_indices, ]"
   ]
  },
  {
   "cell_type": "code",
   "execution_count": null,
   "metadata": {
    "collapsed": false,
    "scrolled": true
   },
   "outputs": [],
   "source": [
    "actual_balls = balls_and_strikes_actual == 0\n",
    "actual_strikes = balls_and_strikes_actual == 1\n",
    "plt.scatter(ball_and_strike_locations[actual_balls, 1],\n",
    "            ball_and_strike_locations[actual_balls, 0],\n",
    "            alpha=0.05,\n",
    "            color='b')\n",
    "plt.scatter(ball_and_strike_locations[actual_strikes, 1],\n",
    "            ball_and_strike_locations[actual_strikes, 0],\n",
    "            alpha=0.05,\n",
    "            color='r')\n",
    "plt.ylim(-3, 3)\n",
    "plt.xlim(-3, 3)\n",
    "plt.title(\"Actual Ball and Strike Calls\")\n",
    "plt.show()"
   ]
  },
  {
   "cell_type": "code",
   "execution_count": null,
   "metadata": {
    "collapsed": false
   },
   "outputs": [],
   "source": [
    "embedded_balls = balls_and_strikes_embedded == 0\n",
    "embedded_strikes = balls_and_strikes_embedded == 1\n",
    "plt.scatter(ball_and_strike_locations[embedded_balls, 1],\n",
    "            ball_and_strike_locations[embedded_balls, 0],\n",
    "            alpha=0.05,\n",
    "            color='b')\n",
    "plt.scatter(ball_and_strike_locations[embedded_strikes, 1],\n",
    "            ball_and_strike_locations[embedded_strikes, 0],\n",
    "            alpha=0.05,\n",
    "            color='r')\n",
    "plt.ylim(-3, 3)\n",
    "plt.xlim(-3, 3)\n",
    "plt.title(\"Predicted Balls and Strikes\")\n",
    "plt.show()"
   ]
  },
  {
   "cell_type": "code",
   "execution_count": null,
   "metadata": {
    "collapsed": false
   },
   "outputs": [],
   "source": [
    "right_calls = balls_and_strikes_actual == balls_and_strikes_embedded\n",
    "wrong_calls = balls_and_strikes_actual != balls_and_strikes_embedded\n",
    "plt.scatter(ball_and_strike_locations[right_calls, 1],\n",
    "            ball_and_strike_locations[right_calls, 0],\n",
    "            alpha=0.05,\n",
    "            color='b')\n",
    "plt.scatter(ball_and_strike_locations[wrong_calls, 1],\n",
    "            ball_and_strike_locations[wrong_calls, 0],\n",
    "            alpha=0.05,\n",
    "            color='r')\n",
    "plt.ylim(-3, 3)\n",
    "plt.xlim(-3, 3)\n",
    "plt.title(\"Incorrect Pitch Call Predictions\")\n",
    "plt.show()"
   ]
  },
  {
   "cell_type": "code",
   "execution_count": null,
   "metadata": {
    "collapsed": true
   },
   "outputs": [],
   "source": []
  }
 ],
 "metadata": {
  "anaconda-cloud": {},
  "kernelspec": {
   "display_name": "Python [conda root]",
   "language": "python",
   "name": "conda-root-py"
  },
  "language_info": {
   "codemirror_mode": {
    "name": "ipython",
    "version": 2
   },
   "file_extension": ".py",
   "mimetype": "text/x-python",
   "name": "python",
   "nbconvert_exporter": "python",
   "pygments_lexer": "ipython2",
   "version": "2.7.12"
  }
 },
 "nbformat": 4,
 "nbformat_minor": 2
}
