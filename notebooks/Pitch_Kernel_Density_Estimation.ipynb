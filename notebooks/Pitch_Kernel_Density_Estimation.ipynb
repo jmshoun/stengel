{
 "cells": [
  {
   "cell_type": "code",
   "execution_count": null,
   "metadata": {
    "collapsed": false
   },
   "outputs": [],
   "source": [
    "import pickle\n",
    "\n",
    "import pandas\n",
    "import numpy as np\n",
    "import matplotlib.pyplot as plt\n",
    "import matplotlib\n",
    "import pandas.tools.plotting as pdplot\n",
    "import sklearn.mixture\n",
    "import sklearn.model_selection\n",
    "import sklearn.neighbors.kde\n",
    "import time\n",
    "import math\n",
    "\n",
    "import stengel.model.pitch_data\n",
    "import stengel.model.pitch_density"
   ]
  },
  {
   "cell_type": "code",
   "execution_count": null,
   "metadata": {
    "collapsed": false
   },
   "outputs": [],
   "source": [
    "with open(\"../data/python/pitch_data_2009.p\", \"rb\") as f:\n",
    "    pitch_data = stengel.model.pitch_data.PitchData.from_dict(pickle.load(f))\n",
    "    \n",
    "pitch_data.filter_nulls(in_place=True)\n",
    "high_volume_pitchers = [i for i, pitch_count in enumerate(pitch_data.pitches_per_pitcher())\n",
    "                        if pitch_count > 3000]\n",
    "high_pitch_data = pitch_data.filter_by_pitcher_id(high_volume_pitchers)"
   ]
  },
  {
   "cell_type": "code",
   "execution_count": null,
   "metadata": {
    "collapsed": false
   },
   "outputs": [],
   "source": [
    "print high_pitch_data.pitches_per_pitcher()"
   ]
  },
  {
   "cell_type": "code",
   "execution_count": null,
   "metadata": {
    "collapsed": false
   },
   "outputs": [],
   "source": [
    "def pitcher_density_data(pitcher_data):\n",
    "    density_variables = [\"velocity_y\", \"accel_x\", \"accel_z\"]\n",
    "    data_columns = stengel.model.pitch_data.PitchData.variable_names\n",
    "    density_columns = [i for i, v in enumerate(data_columns)\n",
    "                       if v in density_variables]\n",
    "    return pitcher_data.pitch_data[:, density_columns]\n",
    "\n",
    "density_data = {}\n",
    "for id_, name in enumerate(high_pitch_data.pitchers):\n",
    "    density_matrix = pitcher_density_data(high_pitch_data.filter_by_pitcher_id([id_]))\n",
    "    train, test = sklearn.model_selection.train_test_split(density_matrix, test_size=0.3, random_state=1729)\n",
    "    density_data[name] = {\"train\": train, \"test\": test}"
   ]
  },
  {
   "cell_type": "code",
   "execution_count": null,
   "metadata": {
    "collapsed": false
   },
   "outputs": [],
   "source": [
    "train_combined = np.concatenate([v[\"train\"] for v in density_data.values()], 0)\n",
    "scaler = sklearn.preprocessing.StandardScaler()\n",
    "scaler.fit(train_combined)"
   ]
  },
  {
   "cell_type": "code",
   "execution_count": null,
   "metadata": {
    "collapsed": false
   },
   "outputs": [],
   "source": [
    "def score_bandwidth_value(bandwidth):\n",
    "    scores = []\n",
    "    for data in density_data.values():\n",
    "        model = stengel.model.pitch_density.PitchDensityEstimator(bandwidth, scaler)\n",
    "        model.fit(data[\"train\"])\n",
    "        scores.append(model.score(data[\"test\"]))\n",
    "    return np.mean(scores)"
   ]
  },
  {
   "cell_type": "code",
   "execution_count": null,
   "metadata": {
    "collapsed": false
   },
   "outputs": [],
   "source": [
    "bandwidths = [0.09, 0.10, 0.11, 0.12, 0.13, 0.14, 0.15, 0.16, 0.17, 0.18, 0.19, 0.20]\n",
    "bandwidth_scores = [score_bandwidth_value(b) for b in bandwidths]"
   ]
  },
  {
   "cell_type": "code",
   "execution_count": null,
   "metadata": {
    "collapsed": false
   },
   "outputs": [],
   "source": [
    "plt.plot(bandwidths, bandwidth_scores)\n",
    "plt.plot(bandwidths, bandwidth_scores, \"ro\")\n",
    "plt.xlabel(\"Kernel bandwidth\")\n",
    "plt.ylabel(\"Mean score on test data\")\n",
    "plt.title(\"KDE Performance By Bandwidth\")\n",
    "plt.show()"
   ]
  },
  {
   "cell_type": "code",
   "execution_count": null,
   "metadata": {
    "collapsed": false
   },
   "outputs": [],
   "source": [
    "train_scaled = scaler.transform(train_combined)\n",
    "print(np.amin(train_scaled, 0))\n",
    "print(np.amax(train_scaled, 0))"
   ]
  },
  {
   "cell_type": "code",
   "execution_count": null,
   "metadata": {
    "collapsed": false
   },
   "outputs": [],
   "source": [
    "pitcher_density_renders = {}\n",
    "for name, data in density_data.items():\n",
    "    model = stengel.model.pitch_density.PitchDensityEstimator(bandwidth=0.13, scaler=scaler)\n",
    "    model.fit(data[\"train\"])\n",
    "    render = model.render(mins=[-2.0, -2.5, -3.0],\n",
    "                          maxes=[3.0, 2.5, 2.0],\n",
    "                          resolutions=[10, 10, 10])\n",
    "    pitcher_density_renders[name] = render"
   ]
  },
  {
   "cell_type": "code",
   "execution_count": null,
   "metadata": {
    "collapsed": false
   },
   "outputs": [],
   "source": [
    "with file(\"../data/python/density_renders.p\", \"wb\") as outfile:\n",
    "    pickle.dump(pitcher_density_renders, outfile, pickle.HIGHEST_PROTOCOL)"
   ]
  },
  {
   "cell_type": "code",
   "execution_count": null,
   "metadata": {
    "collapsed": false
   },
   "outputs": [],
   "source": [
    "render_minima = pitcher_density_renders.values()[0]\n",
    "render_maxima = pitcher_density_renders.values()[0]\n",
    "for render in pitcher_density_renders.values():\n",
    "    render_minima = np.minimum(render_minima, render)\n",
    "    render_maxima = np.maximum(render_maxima, render)\n",
    "\n",
    "plt.hist(np.reshape(render_minima, [-1]), 50)\n",
    "plt.xlabel(\"Voxel Minimum\")\n",
    "plt.ylabel(\"Number of Voxels\")\n",
    "plt.title(\"Distribution of Density Voxel Minima\")\n",
    "plt.show()\n",
    "\n",
    "plt.hist(np.reshape(render_maxima, [-1]), 50)\n",
    "plt.xlabel(\"Voxel Maximum\")\n",
    "plt.ylabel(\"Number of Voxels\")\n",
    "plt.title(\"Distribution of Density Voxel Maxima\")\n",
    "plt.show()"
   ]
  },
  {
   "cell_type": "code",
   "execution_count": null,
   "metadata": {
    "collapsed": true
   },
   "outputs": [],
   "source": [
    "retained_voxels = np.reshape(render_maxima > 0.02, [-1])\n",
    "compressed_renders = {}\n",
    "\n",
    "for name, render in pitcher_density_renders.items():\n",
    "    flattened_render = np.reshape(render, [-1])\n",
    "    compressed_renders[name] = flattened_render[retained_voxels]"
   ]
  },
  {
   "cell_type": "code",
   "execution_count": null,
   "metadata": {
    "collapsed": false
   },
   "outputs": [],
   "source": [
    "with file(\"../data/python/compressed_renders.p\", \"wb\") as outfile:\n",
    "    pickle.dump(compressed_renders, outfile, pickle.HIGHEST_PROTOCOL)"
   ]
  },
  {
   "cell_type": "code",
   "execution_count": null,
   "metadata": {
    "collapsed": false
   },
   "outputs": [],
   "source": [
    "pitcher_quantiles = {}\n",
    "for name, data in density_data.items():\n",
    "    quantiles = np.percentile(data[\"train\"], [1, 5, 25, 50, 75, 95, 99], axis=0)\n",
    "    pitcher_quantiles[name] = np.reshape(quantiles.transpose(), [-1])"
   ]
  },
  {
   "cell_type": "code",
   "execution_count": null,
   "metadata": {
    "collapsed": false
   },
   "outputs": [],
   "source": [
    "with file(\"../data/python/pitcher_quantiles.p\", \"wb\") as outfile:\n",
    "    pickle.dump(pitcher_quantiles, outfile, pickle.HIGHEST_PROTOCOL)"
   ]
  },
  {
   "cell_type": "code",
   "execution_count": null,
   "metadata": {
    "collapsed": true
   },
   "outputs": [],
   "source": []
  }
 ],
 "metadata": {
  "anaconda-cloud": {},
  "kernelspec": {
   "display_name": "Python [conda root]",
   "language": "python",
   "name": "conda-root-py"
  },
  "language_info": {
   "codemirror_mode": {
    "name": "ipython",
    "version": 2
   },
   "file_extension": ".py",
   "mimetype": "text/x-python",
   "name": "python",
   "nbconvert_exporter": "python",
   "pygments_lexer": "ipython2",
   "version": "2.7.12"
  }
 },
 "nbformat": 4,
 "nbformat_minor": 2
}
