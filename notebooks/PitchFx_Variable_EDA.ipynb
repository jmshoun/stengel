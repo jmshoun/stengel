{
 "cells": [
  {
   "cell_type": "code",
   "execution_count": null,
   "metadata": {
    "collapsed": true
   },
   "outputs": [],
   "source": [
    "import pickle\n",
    "\n",
    "import pandas\n",
    "import numpy as np\n",
    "import matplotlib.pyplot as plt\n",
    "import pandas.tools.plotting as pdplot\n",
    "\n",
    "import stengel.model.pitch_data"
   ]
  },
  {
   "cell_type": "code",
   "execution_count": null,
   "metadata": {
    "collapsed": false
   },
   "outputs": [],
   "source": [
    "with open(\"../data/python/pitch_data.p\", \"rb\") as f:\n",
    "    pitcher_data = pickle.load(f)"
   ]
  },
  {
   "cell_type": "markdown",
   "metadata": {},
   "source": [
    "### Distribution of Pitch Counts\n",
    "\n",
    "Let's take a look at the distribution of pitch counts by pitcher. What do typical pitch counts over the course of a season look like?"
   ]
  },
  {
   "cell_type": "code",
   "execution_count": null,
   "metadata": {
    "collapsed": false
   },
   "outputs": [],
   "source": [
    "# Count pitches thrown by each pitcher\n",
    "pitches_per_pitcher = [p.shape[0] for p in pitcher_data.values()]\n",
    "pitches_per_pitcher.sort()\n",
    "\n",
    "# Construct a histogram of pitch counts\n",
    "plt.hist(pitches_per_pitcher, 50)\n",
    "plt.show()\n",
    "\n",
    "# Construct a quasi-CDF -- what percentage of pitches are thrown by pitchers with\n",
    "# at least X pitches per season?\n",
    "pitches_per_pitcher = np.array([pitches_per_pitcher])\n",
    "pitches_cdf = np.cumsum(pitches_per_pitcher, 1, np.float32) / np.sum(pitches_per_pitcher)\n",
    "pitches_cdf = np.concatenate((pitches_per_pitcher, pitches_cdf))\n",
    "plt.plot(pitches_cdf[0, :], pitches_cdf[1, :])\n",
    "plt.show()"
   ]
  },
  {
   "cell_type": "markdown",
   "metadata": {},
   "source": [
    "So there's a chunk of elite starters with 2500-3500 pitches per season, a chunk of relievers/closers with 800-1300 pitches per season, plus an exponential smattering of pitchers with a handful of outings. Over 99% of pitches are thrown by pitchers with at least 100 pitches in a season."
   ]
  },
  {
   "cell_type": "markdown",
   "metadata": {},
   "source": [
    "### Pitchf/x Variable EDA\n",
    "\n",
    "Let's do some EDA on the Pitchf/x variables. There are 22 variables in the Pitchf/x data, which is a lot to contend with. Our first task is to find some subset of the Pitchf/x variables that does a reasonable job of describing the range of a pitcher's repertoire of pitch types.\n",
    "\n",
    "We can exclude `strike_zone_top` and `strike_zone_bottom` off the bat, since they're determined by the batter.  Likewise, we'll consider `plate_x` and `plate_z` (the position of the ball as it crosses the plane of the plate) to be orthogonal to pitch type. Finally, we can also exclude `start_y`, since according to Pitchf/x documentation, it's a fixed parameter of the system that the pitcher can't affect.\n",
    "\n",
    "This is all of the low-hanging fruit that we can exclude *a priori*, but there are several other variables that are very highly correlated. Let's take a typical pitcher, and use his data for EDA:"
   ]
  },
  {
   "cell_type": "code",
   "execution_count": null,
   "metadata": {
    "collapsed": true
   },
   "outputs": [],
   "source": [
    "def pitcher_dataframe(pitcher):\n",
    "    pitcher_cols = stengel.model.pitch_data.PitchDataGenerator.variable_names\n",
    "    pitches = pitcher_data[pitcher]\n",
    "    # Remove missing rows\n",
    "    row_mins = np.amin(pitches, 1)\n",
    "    complete_rows = np.array([i for i, x in enumerate(row_mins) if x is not None])\n",
    "    df = list([list(x) for x in pitches])\n",
    "    return pandas.DataFrame(df, columns=pitcher_cols)"
   ]
  },
  {
   "cell_type": "code",
   "execution_count": null,
   "metadata": {
    "collapsed": false
   },
   "outputs": [],
   "source": [
    "pitches = pitcher_dataframe(\"torrc001\")"
   ]
  },
  {
   "cell_type": "code",
   "execution_count": null,
   "metadata": {
    "collapsed": false
   },
   "outputs": [],
   "source": [
    "pdplot.scatter_matrix(pitches.loc[:, [\"start_speed\", \"end_speed\", \"velocity_y\"]],\n",
    "                      alpha=0.2, figsize=(4, 4), diagonal='kde')\n",
    "plt.show()"
   ]
  },
  {
   "cell_type": "markdown",
   "metadata": {},
   "source": [
    "Unsurprisingly, `start_speed`, `end_speed`, and `velocity_y` are all essentially collinear. `start_start` and `velocity_y` have the highest correlation, since they're measured at nearly the same point in time. We'll choose `velocity_y` for the sake of consistent units."
   ]
  },
  {
   "cell_type": "code",
   "execution_count": null,
   "metadata": {
    "collapsed": false
   },
   "outputs": [],
   "source": [
    "pdplot.scatter_matrix(pitches.loc[:, [\"break_y\", \"break_length\", \"break_angle\", \"delta_x\", \"delta_z\", \n",
    "                                      \"accel_x\", \"accel_z\", \"spin_direction\", \"spin_rate\"]],\n",
    "                      alpha=0.2, figsize=(8, 8), diagonal='kde')\n",
    "plt.show()"
   ]
  },
  {
   "cell_type": "markdown",
   "metadata": {},
   "source": [
    "`break_y` is very discrete, and therefore unlikely to be much help. Beyond that, it's clear that we have essentially four separate parameterizations of the movement of the ball (relative to normal expectations). `break_length` and `break_angle` can be thought of as the polar-coordinate representation of the movement, and `spin_direction` and `spin_rate` are polar-coordinate representations of the underlying process that causes the ball to accelerate. The other two parameterizations use Cartesian coordinates. The fact that `delta_*` and `accel_*` are so tightly coupled is no surprise, when we consider that no external forces (other than the Magnus effect) are working on the ball as it flies, so of course any deviation from a normal trajectory would manifest itself as acceleration early on. We prefer the `accel_*` parameterization for consistency's sake."
   ]
  },
  {
   "cell_type": "code",
   "execution_count": null,
   "metadata": {
    "collapsed": false
   },
   "outputs": [],
   "source": [
    "pdplot.scatter_matrix(pitches.loc[:, [\"start_x\", \"start_z\", \"plate_x\", \"plate_z\", \"accel_x\", \"accel_z\"]],\n",
    "                      alpha=0.2, figsize=(6, 6), diagonal='kde')\n",
    "plt.show()"
   ]
  },
  {
   "cell_type": "markdown",
   "metadata": {},
   "source": [
    "There's a bit of correlation between `start_x` and `start_z`, and `plate_x` and `plate_z`. The reason the correlation isn't stronger is likely because of the noise introduced by the other variables that influence pitch type -- for a consistent type of pitch thrown, the correlation between `start_*` and `plate_*` should be much higher. For the same reason that we prefer to exclude `plate_*`, we'll exclude `start_*` for the sake of the pitch classification model. Furthermore, it looks like `start_*` and `accel_*` are fairly orthogonal -- it looks like we aren't gaining extra insight into the pitcher's mechanics (and therefore his choice of pitch) from the coordinates of his release point."
   ]
  },
  {
   "cell_type": "markdown",
   "metadata": {},
   "source": [
    "This leaves us with a promising set of variables for pitch classification. Essentially, we could use the first and second derivatives of the ball's position in three dimensions at a particular point in its flight path to determine what kind of pitch it is. This is enormously satisfying, both statistically (using only six variables is immensely preferable to using 22), and mechanically (given that we consider a pitch's location to be orthogonal to how it was thrown, a complete description of its movement at a single point in time should be sufficient to reconstruct any other metric describing its flight path, at least to a first-order approximation)."
   ]
  },
  {
   "cell_type": "code",
   "execution_count": null,
   "metadata": {
    "collapsed": false,
    "scrolled": false
   },
   "outputs": [],
   "source": [
    "pdplot.scatter_matrix(pitches.loc[:, [\"velocity_x\", \"velocity_y\", \"velocity_z\", \n",
    "                                      \"accel_x\", \"accel_y\", \"accel_z\"]],\n",
    "                      alpha=0.2, figsize=(6, 6), diagonal='kde')\n",
    "plt.show()"
   ]
  },
  {
   "cell_type": "markdown",
   "metadata": {
    "collapsed": true
   },
   "source": [
    "However, we could reduce the number of variables in the model even further. `accel_y` is strongly related to `velocity_y` for fairly obvious reasons -- the faster a ball is moving, the greater the air resistance it will encounter, and the faster it will decelerate. Furthermore, there doesn't appear to be a lot of clustering segmentation due to `velocity_x` and `velocity_z`. Therefore, if we drop those three variables, we are left with three simple variables that do a very good job of clustering pitch types: `velocity_y` (how fast the pitch was thrown, and `accel_x` and `accel_z` (the pitch's movement relative to the plane of the strike zone, expressed in Cartesian coordinates)."
   ]
  },
  {
   "cell_type": "code",
   "execution_count": null,
   "metadata": {
    "collapsed": false
   },
   "outputs": [],
   "source": [
    "pdplot.scatter_matrix(pitches.loc[:, [\"velocity_y\", \"accel_x\", \"accel_z\"]],\n",
    "                      alpha=0.2, figsize=(6, 6), diagonal='kde')\n",
    "plt.show()"
   ]
  },
  {
   "cell_type": "markdown",
   "metadata": {},
   "source": [
    "Note the natural appearance of fairly well-defined clusters within this scatterplot matrix. This makes sense, given our simple conceptual model of how the data is generated: a pitcher chooses of a few discrete pitch types in his repertoire, then executes it with some Gaussian-ish process variance."
   ]
  },
  {
   "cell_type": "code",
   "execution_count": null,
   "metadata": {
    "collapsed": true
   },
   "outputs": [],
   "source": []
  }
 ],
 "metadata": {
  "anaconda-cloud": {},
  "kernelspec": {
   "display_name": "Python [conda root]",
   "language": "python",
   "name": "conda-root-py"
  },
  "language_info": {
   "codemirror_mode": {
    "name": "ipython",
    "version": 2
   },
   "file_extension": ".py",
   "mimetype": "text/x-python",
   "name": "python",
   "nbconvert_exporter": "python",
   "pygments_lexer": "ipython2",
   "version": "2.7.12"
  }
 },
 "nbformat": 4,
 "nbformat_minor": 2
}
